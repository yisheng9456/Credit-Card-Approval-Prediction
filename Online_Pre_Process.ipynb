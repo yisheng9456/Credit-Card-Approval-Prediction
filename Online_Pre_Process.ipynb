{
 "cells": [
  {
   "cell_type": "code",
   "execution_count": 3,
   "id": "3db46ec5",
   "metadata": {},
   "outputs": [],
   "source": [
    "# FYI Only\n",
    "# Min_Age: 20.517808219178082\n",
    "# Max_Age: 66.98356164383561\n",
    "\n",
    "# Min_Income: 27000.0\n",
    "# Max_Income: 378000.0\n",
    "\n",
    "# Min_Employment_length: 0.04657534246575343\n",
    "# Max_mployment_length: 19.73972602739726\n",
    "\n"
   ]
  },
  {
   "cell_type": "markdown",
   "id": "bcf83264",
   "metadata": {},
   "source": [
    "The preprocessing for age and income need go through \"input_skew\" first then followed by \"input_scale\", employment length only need to go through \"input_scale\""
   ]
  },
  {
   "cell_type": "code",
   "execution_count": 2,
   "id": "1816e70c",
   "metadata": {},
   "outputs": [
    {
     "data": {
      "text/plain": [
       "4.061215908230528"
      ]
     },
     "execution_count": 2,
     "metadata": {},
     "output_type": "execute_result"
    }
   ],
   "source": [
    "import numpy as np\n",
    "## for age and income only\n",
    "#Age\n",
    "# min_value=2.7376441032733023\n",
    "# max_value=4.061215908230528\n",
    "\n",
    "#Income\n",
    "# min_value= 30.0\n",
    "# max_value= 72.30426792525691\n",
    "    \n",
    "def input_skew(input_value,min_value,max_value):\n",
    "    x_skewed=np.cbrt(input_value)\n",
    "    if x_skewed<min_value:\n",
    "        x_skewed=min_value\n",
    "    elif x_skewed>max_value:\n",
    "        x_skewed=max_value\n",
    "    return x_skewed\n",
    "\n",
    "#for age, income and employmentt length\n",
    "#Age\n",
    "# min_value=2.7376441032733023\n",
    "# max_value=4.061215908230528\n",
    "\n",
    "#Income\n",
    "# min_value= 30.0\n",
    "# max_value= 72.30426792525691\n",
    "\n",
    "#employment (in years)\n",
    "# min_value=0.04657534246575343\n",
    "# max_value=19.73972602739726\n",
    "\n",
    "def input_scale(input_value,min_value,max_value):\n",
    "\n",
    "    x_scaled=(input_value-min_value)/(max_value-min_value)\n",
    "    if x_scaled<0:\n",
    "        x_scaled=0\n",
    "    elif x_scaled>1:\n",
    "        x_scaled=1\n",
    "    return x_scaled\n",
    "\n",
    "input_skew(70,2.7376441032733023,4.061215908230528)"
   ]
  },
  {
   "cell_type": "code",
   "execution_count": null,
   "id": "9d5e8ccc",
   "metadata": {},
   "outputs": [],
   "source": []
  }
 ],
 "metadata": {
  "kernelspec": {
   "display_name": "Py 310",
   "language": "python",
   "name": "py310"
  },
  "language_info": {
   "codemirror_mode": {
    "name": "ipython",
    "version": 3
   },
   "file_extension": ".py",
   "mimetype": "text/x-python",
   "name": "python",
   "nbconvert_exporter": "python",
   "pygments_lexer": "ipython3",
   "version": "3.10.8"
  }
 },
 "nbformat": 4,
 "nbformat_minor": 5
}
